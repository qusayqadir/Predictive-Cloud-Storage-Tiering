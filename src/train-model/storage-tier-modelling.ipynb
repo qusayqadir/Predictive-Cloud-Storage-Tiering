{
 "cells": [
  {
   "cell_type": "markdown",
   "metadata": {},
   "source": [
    "# Data Modelling - Determining AWS S3 Storage Tier\n",
    "\n",
    "Use the syenthetic data to build model(s) that predicits the storage tier of new files. \n",
    "To efficiently and correctly catergorize files into different storage tiers is useful becuase it allows for cost optimization, storage efficiency, and client performance optimization: retrivel times "
   ]
  },
  {
   "cell_type": "markdown",
   "metadata": {},
   "source": [
    "## AWS S3 Tiers \n",
    "\n",
    "The model(s) built will analyze the metadata of the file to store it in one of three storage classes\n",
    "\n",
    "Overview of the storage classses in use: \n",
    "\n",
    "<table align=\"left\" style=\"width:50%\"> \n",
    "    <tr>\n",
    "        <th>Class</th>\n",
    "        <th>Use Case</th>\n",
    "        <th>Tier</th> \n",
    "    </tr>\n",
    "    <tr>\n",
    "        <td>S3 Standard</td>\n",
    "        <td>Frequently Accessed</td>\n",
    "        <td>\"Hot\"</td>\n",
    "    </tr>\n",
    "    <tr>\n",
    "        <td>S3 One Zone-IA</td>\n",
    "        <td>Infrequent, low-availability data </td>\n",
    "        <td>\"Warm\"</td>\n",
    "    </tr>\n",
    "    <tr>\n",
    "        <td>S3 Glacier (Deep Archieve?)</td>\n",
    "        <td>Rarely Accessed / Long-term rarely accessed</td>\n",
    "        <td>\"Cold\"</td>\n",
    "    </tr>\n",
    "</table> \n",
    " "
   ]
  },
  {
   "cell_type": "markdown",
   "metadata": {},
   "source": [
    "## Step 1) Data Preperation - preprocessing\n"
   ]
  },
  {
   "cell_type": "markdown",
   "metadata": {},
   "source": [
    "Possible approaches towards a dataset preprocessing before fitting it a model \n",
    "\n",
    "**1)** Handle missing/null values \n",
    "\n",
    "**2)** Normalize/scale numerical features \n",
    "\n",
    "Standardization: Scale values to have a mean of 0 and standard deviation of 1.\n",
    "\n",
    "Normalization: Rescale values to fall within a range (e.g., 0–1).\n",
    "\n",
    "**3)** Encode categorical features : ordinal encoding ( hot > warm > cold)\n",
    "\n",
    "**4)** Feature engineering + Class imbalance ( create/remove columns ) \n",
    "\n",
    "New rows for edge cases to help the model learn critical boundries,\n",
    "\n",
    "Talk about not dropping access_frequency and frequency of access.  \n",
    "\n",
    "need to determine if the target variable 'Storage_Tier' in the dataset is balanced, risk the model becoming biased  \n"
   ]
  },
  {
   "cell_type": "markdown",
   "metadata": {},
   "source": [
    "#### Handling missing/null values"
   ]
  },
  {
   "cell_type": "code",
   "execution_count": 150,
   "metadata": {},
   "outputs": [
    {
     "data": {
      "text/html": [
       "<div>\n",
       "<style scoped>\n",
       "    .dataframe tbody tr th:only-of-type {\n",
       "        vertical-align: middle;\n",
       "    }\n",
       "\n",
       "    .dataframe tbody tr th {\n",
       "        vertical-align: top;\n",
       "    }\n",
       "\n",
       "    .dataframe thead th {\n",
       "        text-align: right;\n",
       "    }\n",
       "</style>\n",
       "<table border=\"1\" class=\"dataframe\">\n",
       "  <thead>\n",
       "    <tr style=\"text-align: right;\">\n",
       "      <th></th>\n",
       "      <th>File_ID</th>\n",
       "      <th>Access_Frequency</th>\n",
       "      <th>Frequnecy_of_Access</th>\n",
       "      <th>File_Size</th>\n",
       "      <th>File_Lifecycle_Stage</th>\n",
       "      <th>Modification_Frequency</th>\n",
       "      <th>File_Age</th>\n",
       "      <th>Storage_Tier</th>\n",
       "    </tr>\n",
       "  </thead>\n",
       "  <tbody>\n",
       "    <tr>\n",
       "      <th>0</th>\n",
       "      <td>File_1</td>\n",
       "      <td>21.2307</td>\n",
       "      <td>24.4205</td>\n",
       "      <td>0.0000</td>\n",
       "      <td>0.0000</td>\n",
       "      <td>23.3177</td>\n",
       "      <td>2.6015</td>\n",
       "      <td>Hot</td>\n",
       "    </tr>\n",
       "    <tr>\n",
       "      <th>1</th>\n",
       "      <td>File_2</td>\n",
       "      <td>24.0589</td>\n",
       "      <td>4.5884</td>\n",
       "      <td>1.8784</td>\n",
       "      <td>8.4383</td>\n",
       "      <td>4.8516</td>\n",
       "      <td>7.7843</td>\n",
       "      <td>Warm</td>\n",
       "    </tr>\n",
       "    <tr>\n",
       "      <th>2</th>\n",
       "      <td>File_3</td>\n",
       "      <td>25.1752</td>\n",
       "      <td>10.1110</td>\n",
       "      <td>0.0000</td>\n",
       "      <td>0.0000</td>\n",
       "      <td>5.7295</td>\n",
       "      <td>1.9126</td>\n",
       "      <td>Warm</td>\n",
       "    </tr>\n",
       "    <tr>\n",
       "      <th>3</th>\n",
       "      <td>File_4</td>\n",
       "      <td>4.2926</td>\n",
       "      <td>17.4557</td>\n",
       "      <td>0.0000</td>\n",
       "      <td>0.0000</td>\n",
       "      <td>8.7832</td>\n",
       "      <td>2.3784</td>\n",
       "      <td>Cold</td>\n",
       "    </tr>\n",
       "    <tr>\n",
       "      <th>4</th>\n",
       "      <td>File_5</td>\n",
       "      <td>19.9357</td>\n",
       "      <td>23.3908</td>\n",
       "      <td>0.0000</td>\n",
       "      <td>0.0000</td>\n",
       "      <td>12.2302</td>\n",
       "      <td>3.5120</td>\n",
       "      <td>Warm</td>\n",
       "    </tr>\n",
       "    <tr>\n",
       "      <th>5</th>\n",
       "      <td>File_6</td>\n",
       "      <td>28.4249</td>\n",
       "      <td>23.1148</td>\n",
       "      <td>7.0560</td>\n",
       "      <td>9.1548</td>\n",
       "      <td>9.2075</td>\n",
       "      <td>1.8900</td>\n",
       "      <td>Hot</td>\n",
       "    </tr>\n",
       "    <tr>\n",
       "      <th>6</th>\n",
       "      <td>File_7</td>\n",
       "      <td>19.6673</td>\n",
       "      <td>8.6535</td>\n",
       "      <td>6.2278</td>\n",
       "      <td>7.9220</td>\n",
       "      <td>14.8424</td>\n",
       "      <td>0.0000</td>\n",
       "      <td>Warm</td>\n",
       "    </tr>\n",
       "    <tr>\n",
       "      <th>7</th>\n",
       "      <td>File_8</td>\n",
       "      <td>16.5561</td>\n",
       "      <td>22.7516</td>\n",
       "      <td>4.0345</td>\n",
       "      <td>3.5290</td>\n",
       "      <td>9.6637</td>\n",
       "      <td>5.4443</td>\n",
       "      <td>Warm</td>\n",
       "    </tr>\n",
       "    <tr>\n",
       "      <th>8</th>\n",
       "      <td>File_9</td>\n",
       "      <td>9.0017</td>\n",
       "      <td>8.5943</td>\n",
       "      <td>15.8221</td>\n",
       "      <td>15.2384</td>\n",
       "      <td>9.1963</td>\n",
       "      <td>0.0000</td>\n",
       "      <td>Warm</td>\n",
       "    </tr>\n",
       "    <tr>\n",
       "      <th>9</th>\n",
       "      <td>File_10</td>\n",
       "      <td>17.6529</td>\n",
       "      <td>18.1427</td>\n",
       "      <td>10.5044</td>\n",
       "      <td>4.3349</td>\n",
       "      <td>4.9068</td>\n",
       "      <td>5.5250</td>\n",
       "      <td>Warm</td>\n",
       "    </tr>\n",
       "  </tbody>\n",
       "</table>\n",
       "</div>"
      ],
      "text/plain": [
       "   File_ID  Access_Frequency  Frequnecy_of_Access  File_Size  \\\n",
       "0   File_1           21.2307              24.4205     0.0000   \n",
       "1   File_2           24.0589               4.5884     1.8784   \n",
       "2   File_3           25.1752              10.1110     0.0000   \n",
       "3   File_4            4.2926              17.4557     0.0000   \n",
       "4   File_5           19.9357              23.3908     0.0000   \n",
       "5   File_6           28.4249              23.1148     7.0560   \n",
       "6   File_7           19.6673               8.6535     6.2278   \n",
       "7   File_8           16.5561              22.7516     4.0345   \n",
       "8   File_9            9.0017               8.5943    15.8221   \n",
       "9  File_10           17.6529              18.1427    10.5044   \n",
       "\n",
       "   File_Lifecycle_Stage  Modification_Frequency  File_Age Storage_Tier  \n",
       "0                0.0000                 23.3177    2.6015          Hot  \n",
       "1                8.4383                  4.8516    7.7843         Warm  \n",
       "2                0.0000                  5.7295    1.9126         Warm  \n",
       "3                0.0000                  8.7832    2.3784         Cold  \n",
       "4                0.0000                 12.2302    3.5120         Warm  \n",
       "5                9.1548                  9.2075    1.8900          Hot  \n",
       "6                7.9220                 14.8424    0.0000         Warm  \n",
       "7                3.5290                  9.6637    5.4443         Warm  \n",
       "8               15.2384                  9.1963    0.0000         Warm  \n",
       "9                4.3349                  4.9068    5.5250         Warm  "
      ]
     },
     "execution_count": 150,
     "metadata": {},
     "output_type": "execute_result"
    }
   ],
   "source": [
    "import numpy as np \n",
    "import pandas as pd \n",
    "\n",
    "np.random.seed(1)  \n",
    "\n",
    "df = pd.read_csv(\"../../data/train-model/train-file-metadata.csv\") \n",
    "\n",
    "df.head(n=10) \n"
   ]
  },
  {
   "cell_type": "code",
   "execution_count": 151,
   "metadata": {},
   "outputs": [
    {
     "name": "stdout",
     "output_type": "stream",
     "text": [
      "<class 'pandas.core.frame.DataFrame'>\n",
      "RangeIndex: 2000 entries, 0 to 1999\n",
      "Data columns (total 8 columns):\n",
      " #   Column                  Non-Null Count  Dtype  \n",
      "---  ------                  --------------  -----  \n",
      " 0   File_ID                 2000 non-null   object \n",
      " 1   Access_Frequency        2000 non-null   float64\n",
      " 2   Frequnecy_of_Access     2000 non-null   float64\n",
      " 3   File_Size               2000 non-null   float64\n",
      " 4   File_Lifecycle_Stage    2000 non-null   float64\n",
      " 5   Modification_Frequency  2000 non-null   float64\n",
      " 6   File_Age                2000 non-null   float64\n",
      " 7   Storage_Tier            2000 non-null   object \n",
      "dtypes: float64(6), object(2)\n",
      "memory usage: 125.1+ KB\n",
      "None\n",
      "['Hot' 'Warm' 'Cold']\n",
      "(2000, 8)\n"
     ]
    },
    {
     "data": {
      "text/html": [
       "<div>\n",
       "<style scoped>\n",
       "    .dataframe tbody tr th:only-of-type {\n",
       "        vertical-align: middle;\n",
       "    }\n",
       "\n",
       "    .dataframe tbody tr th {\n",
       "        vertical-align: top;\n",
       "    }\n",
       "\n",
       "    .dataframe thead th {\n",
       "        text-align: right;\n",
       "    }\n",
       "</style>\n",
       "<table border=\"1\" class=\"dataframe\">\n",
       "  <thead>\n",
       "    <tr style=\"text-align: right;\">\n",
       "      <th></th>\n",
       "      <th>Access_Frequency</th>\n",
       "      <th>Frequnecy_of_Access</th>\n",
       "      <th>File_Size</th>\n",
       "      <th>File_Lifecycle_Stage</th>\n",
       "      <th>Modification_Frequency</th>\n",
       "      <th>File_Age</th>\n",
       "    </tr>\n",
       "  </thead>\n",
       "  <tbody>\n",
       "    <tr>\n",
       "      <th>count</th>\n",
       "      <td>2000.000000</td>\n",
       "      <td>2000.000000</td>\n",
       "      <td>2000.000000</td>\n",
       "      <td>2000.000000</td>\n",
       "      <td>2000.000000</td>\n",
       "      <td>2000.000000</td>\n",
       "    </tr>\n",
       "    <tr>\n",
       "      <th>mean</th>\n",
       "      <td>15.515501</td>\n",
       "      <td>12.030583</td>\n",
       "      <td>7.976287</td>\n",
       "      <td>5.460082</td>\n",
       "      <td>10.834073</td>\n",
       "      <td>2.669299</td>\n",
       "    </tr>\n",
       "    <tr>\n",
       "      <th>std</th>\n",
       "      <td>8.291801</td>\n",
       "      <td>7.569856</td>\n",
       "      <td>8.205440</td>\n",
       "      <td>5.579764</td>\n",
       "      <td>6.968456</td>\n",
       "      <td>2.702448</td>\n",
       "    </tr>\n",
       "    <tr>\n",
       "      <th>min</th>\n",
       "      <td>2.077500</td>\n",
       "      <td>1.007200</td>\n",
       "      <td>0.000000</td>\n",
       "      <td>0.000000</td>\n",
       "      <td>1.013700</td>\n",
       "      <td>0.000000</td>\n",
       "    </tr>\n",
       "    <tr>\n",
       "      <th>25%</th>\n",
       "      <td>8.705800</td>\n",
       "      <td>5.658150</td>\n",
       "      <td>0.000000</td>\n",
       "      <td>0.000000</td>\n",
       "      <td>5.471100</td>\n",
       "      <td>0.000000</td>\n",
       "    </tr>\n",
       "    <tr>\n",
       "      <th>50%</th>\n",
       "      <td>14.539200</td>\n",
       "      <td>9.676650</td>\n",
       "      <td>6.135600</td>\n",
       "      <td>4.304750</td>\n",
       "      <td>8.902350</td>\n",
       "      <td>2.147300</td>\n",
       "    </tr>\n",
       "    <tr>\n",
       "      <th>75%</th>\n",
       "      <td>21.577300</td>\n",
       "      <td>18.057800</td>\n",
       "      <td>13.035925</td>\n",
       "      <td>8.843775</td>\n",
       "      <td>15.534425</td>\n",
       "      <td>4.273350</td>\n",
       "    </tr>\n",
       "    <tr>\n",
       "      <th>max</th>\n",
       "      <td>34.595800</td>\n",
       "      <td>29.673700</td>\n",
       "      <td>29.696700</td>\n",
       "      <td>19.798900</td>\n",
       "      <td>29.658500</td>\n",
       "      <td>9.889600</td>\n",
       "    </tr>\n",
       "  </tbody>\n",
       "</table>\n",
       "</div>"
      ],
      "text/plain": [
       "       Access_Frequency  Frequnecy_of_Access    File_Size  \\\n",
       "count       2000.000000          2000.000000  2000.000000   \n",
       "mean          15.515501            12.030583     7.976287   \n",
       "std            8.291801             7.569856     8.205440   \n",
       "min            2.077500             1.007200     0.000000   \n",
       "25%            8.705800             5.658150     0.000000   \n",
       "50%           14.539200             9.676650     6.135600   \n",
       "75%           21.577300            18.057800    13.035925   \n",
       "max           34.595800            29.673700    29.696700   \n",
       "\n",
       "       File_Lifecycle_Stage  Modification_Frequency     File_Age  \n",
       "count           2000.000000             2000.000000  2000.000000  \n",
       "mean               5.460082               10.834073     2.669299  \n",
       "std                5.579764                6.968456     2.702448  \n",
       "min                0.000000                1.013700     0.000000  \n",
       "25%                0.000000                5.471100     0.000000  \n",
       "50%                4.304750                8.902350     2.147300  \n",
       "75%                8.843775               15.534425     4.273350  \n",
       "max               19.798900               29.658500     9.889600  "
      ]
     },
     "execution_count": 151,
     "metadata": {},
     "output_type": "execute_result"
    }
   ],
   "source": [
    "print(df.info())\n",
    "print(df[\"Storage_Tier\"].unique())\n",
    "print(df.shape) \n",
    "\n",
    "\n",
    "df.isna().sum() # shows that there is a complete dataset no missing or null values \n",
    "df.describe() #  column values needs to be normalized for better model fit"
   ]
  },
  {
   "cell_type": "markdown",
   "metadata": {},
   "source": [
    "the description of the dataset shows that the values need to be standardized for all the columns to have a mean of 0 and a standard deviation of 1. also shows evidence for normalizatoin so will need to resacle values to fall under the range 0 - 1\n",
    "\n",
    "the dataset is complete, no handling of missing values that have to be imputed by the mean of certain columns "
   ]
  },
  {
   "cell_type": "markdown",
   "metadata": {},
   "source": [
    "#### Normalize & Standardize columns"
   ]
  },
  {
   "cell_type": "markdown",
   "metadata": {},
   "source": [
    "why is it important to standardize and normalize the values? \n",
    "\n",
    "standardize helps avoid the features that have larger values from dominating the model and developing a bias and helps bring the values closer to a normal distribution ( i will use visualization tools to check if this is true - seaborn? ). normalizing helps all the features be scaled to the same range most commonly 0 - 1 \n"
   ]
  },
  {
   "cell_type": "code",
   "execution_count": 152,
   "metadata": {},
   "outputs": [],
   "source": [
    "from sklearn.preprocessing import StandardScaler, MinMaxScaler \n",
    "\n",
    "\n",
    "stand__norm_columns = df.select_dtypes(include=['float64']).columns\n",
    "\n",
    "scaler_standard = StandardScaler() \n",
    "scaler_minmaxScaler = MinMaxScaler() \n",
    "\n",
    "df_copy = df.copy() \n",
    "\n",
    "#Standardize\n",
    "standardized_value = scaler_standard.fit_transform(df[stand__norm_columns])\n",
    "for row, col in enumerate(stand__norm_columns): \n",
    "    df_copy[f\"{col}\"] = standardized_value[:, row ]\n",
    "\n",
    " \n",
    "#Normalzie \n",
    "normalized_values = scaler_minmaxScaler.fit_transform(df[stand__norm_columns])\n",
    "for row, col in enumerate(stand__norm_columns): \n",
    "    df_copy[f\"{col}\"] = normalized_values[:, row]\n",
    "\n",
    "df_copy = df_copy.round(4) # higher precision for imporved accuracy \n",
    "\n",
    "np.random.seed(2) \n",
    "\n",
    "output_file = \"preprocessed-train-file-metadata.csv\" \n",
    "df_copy.to_csv(output_file, index=False)\n",
    "\n"
   ]
  },
  {
   "cell_type": "markdown",
   "metadata": {},
   "source": [
    "now, use the 'preprocessed-train-file-metadata.csv' for further preprocessing"
   ]
  },
  {
   "cell_type": "markdown",
   "metadata": {},
   "source": [
    "#### Encode Categorical Features\n"
   ]
  },
  {
   "cell_type": "code",
   "execution_count": 153,
   "metadata": {},
   "outputs": [
    {
     "name": "stdout",
     "output_type": "stream",
     "text": [
      "object\n",
      "  File_ID  Access_Frequency  Frequnecy_of_Access  File_Size  \\\n",
      "0  File_1            0.5890               0.8167     0.0000   \n",
      "1  File_2            0.6760               0.1249     0.0633   \n",
      "2  File_3            0.7103               0.3176     0.0000   \n",
      "\n",
      "   File_Lifecycle_Stage  Modification_Frequency  File_Age Storage_Tier  \\\n",
      "0                0.0000                  0.7786    0.2631          Hot   \n",
      "1                0.4262                  0.1340    0.7871         Warm   \n",
      "2                0.0000                  0.1646    0.1934         Warm   \n",
      "\n",
      "   Storage_Tier_Encoded  \n",
      "0                     2  \n",
      "1                     1  \n",
      "2                     1  \n",
      "int64\n"
     ]
    }
   ],
   "source": [
    "df = pd.read_csv(\"preprocessed-train-file-metadata.csv\") \n",
    "\n",
    "df.head(n=5)\n",
    "\n",
    "df.columns.unique() \n",
    "\n",
    "print(df[\"Storage_Tier\"].dtype)  \n",
    "\n",
    "tier_mapping = { \"Hot\" : 2 , \"Warm\" : 1 , \"Cold\" : 0 }\n",
    "\n",
    "df[\"Storage_Tier_Encoded\"] = df[\"Storage_Tier\"].map(tier_mapping) \n",
    "output_file = (\"preprocessed-train-file-metadata.csv\" )\n",
    "df.to_csv(output_file, index=False) \n",
    "\n",
    "print(df.head(n=3))\n",
    "\n",
    "print(df[\"Storage_Tier_Encoded\"].dtype)\n"
   ]
  },
  {
   "cell_type": "markdown",
   "metadata": {},
   "source": [
    "used ordinal coding becuase the value of storage tier does matter to train the model\n",
    "\n",
    "hot > warm > cold \n",
    "\n",
    "2 > 1 > 0 "
   ]
  },
  {
   "cell_type": "markdown",
   "metadata": {},
   "source": [
    "#### Feature Engineering & Class Imbalance \n",
    "\n",
    "will drop the storage tier  string column , obvious reason \n",
    "\n",
    "try to deteremine if the target variable : \" storage_tier_encoded \" normal distribution, check for tight edge cases that will imporve the model for boundary cases: if this is lacking then will manually add more rows \n",
    "\n",
    "check if there is a class imbalance for the storage tier to avoid the model overfitting on a certain tier and having a bias. "
   ]
  },
  {
   "cell_type": "code",
   "execution_count": 162,
   "metadata": {},
   "outputs": [],
   "source": [
    "df = df.drop(\"Storage_Tier\", axis=1)  "
   ]
  },
  {
   "cell_type": "markdown",
   "metadata": {},
   "source": [
    "find z-score to deteremine if a row is an outlier, this test is usually run on columns for which the values are continouns. check for z-score for access_frequency \n",
    "z  = x - mean / standard_deviation "
   ]
  },
  {
   "cell_type": "code",
   "execution_count": 163,
   "metadata": {},
   "outputs": [
    {
     "data": {
      "text/html": [
       "<div>\n",
       "<style scoped>\n",
       "    .dataframe tbody tr th:only-of-type {\n",
       "        vertical-align: middle;\n",
       "    }\n",
       "\n",
       "    .dataframe tbody tr th {\n",
       "        vertical-align: top;\n",
       "    }\n",
       "\n",
       "    .dataframe thead th {\n",
       "        text-align: right;\n",
       "    }\n",
       "</style>\n",
       "<table border=\"1\" class=\"dataframe\">\n",
       "  <thead>\n",
       "    <tr style=\"text-align: right;\">\n",
       "      <th></th>\n",
       "      <th>Access_Frequency</th>\n",
       "      <th>Frequnecy_of_Access</th>\n",
       "      <th>File_Size</th>\n",
       "      <th>File_Lifecycle_Stage</th>\n",
       "      <th>Modification_Frequency</th>\n",
       "      <th>File_Age</th>\n",
       "      <th>Storage_Tier_Encoded</th>\n",
       "      <th>Z_Score_Access_Frequency</th>\n",
       "    </tr>\n",
       "  </thead>\n",
       "  <tbody>\n",
       "  </tbody>\n",
       "</table>\n",
       "</div>"
      ],
      "text/plain": [
       "Empty DataFrame\n",
       "Columns: [Access_Frequency, Frequnecy_of_Access, File_Size, File_Lifecycle_Stage, Modification_Frequency, File_Age, Storage_Tier_Encoded, Z_Score_Access_Frequency]\n",
       "Index: []"
      ]
     },
     "execution_count": 163,
     "metadata": {},
     "output_type": "execute_result"
    }
   ],
   "source": [
    "mean = df[\"Access_Frequency\"].mean() \n",
    "stand_deviation = df[\"Access_Frequency\"].std() \n",
    "\n",
    "df[\"Z_Score_Access_Frequency\"] = round((df[\"Access_Frequency\"] - mean ) / stand_deviation , 4 ) \n",
    "\n",
    "outliers = df[abs(df[\"Z_Score_Access_Frequency\"]) > 3 ] \n",
    "outliers"
   ]
  },
  {
   "cell_type": "markdown",
   "metadata": {},
   "source": [
    "check for class imblanace "
   ]
  },
  {
   "cell_type": "code",
   "execution_count": 164,
   "metadata": {},
   "outputs": [
    {
     "data": {
      "text/plain": [
       "Text(0, 0.5, 'Number of training rows')"
      ]
     },
     "execution_count": 164,
     "metadata": {},
     "output_type": "execute_result"
    },
    {
     "data": {
      "image/png": "[encoded data removed]",
      "text/plain": [
       "<Figure size 640x480 with 1 Axes>"
      ]
     },
     "metadata": {},
     "output_type": "display_data"
    }
   ],
   "source": [
    "import matplotlib.pyplot as plt \n",
    "\n",
    "col_count = df[\"Storage_Tier_Encoded\"].value_counts() \n",
    "\n",
    "col_count.plot(kind='bar', color = 'blue')\n",
    "plt.title(\"Distributon of Storage Tiers\") \n",
    "plt.xlabel(\"Storage Tier\") \n",
    "plt.ylabel(\"Number of training rows\") "
   ]
  },
  {
   "cell_type": "markdown",
   "metadata": {},
   "source": [
    "clearly, the target column is heavely skewed in the favour the warm storage (1) "
   ]
  },
  {
   "cell_type": "code",
   "execution_count": 165,
   "metadata": {},
   "outputs": [
    {
     "name": "stdout",
     "output_type": "stream",
     "text": [
      "Storage_Tier_Encoded\n",
      "1    1495\n",
      "0     266\n",
      "2     239\n",
      "Name: count, dtype: int64\n",
      "Storage_Tier_Encoded\n",
      "1    74.75\n",
      "0    13.30\n",
      "2    11.95\n",
      "Name: proportion, dtype: float64\n"
     ]
    }
   ],
   "source": [
    "class_counts = df[\"Storage_Tier_Encoded\"].value_counts() \n",
    "print(class_counts)\n",
    "\n",
    "class_percentage = df[\"Storage_Tier_Encoded\"].value_counts(normalize=True)  * 100 \n",
    "print(class_percentage)"
   ]
  },
  {
   "cell_type": "markdown",
   "metadata": {},
   "source": [
    "will use SMOTE (synthetic minority over-sampling technique) before training the models, to handle the class imbalance by generating synthetic samples for the minority classes  "
   ]
  },
  {
   "cell_type": "markdown",
   "metadata": {},
   "source": [
    "## Step 2) Baseline Model "
   ]
  },
  {
   "cell_type": "code",
   "execution_count": 193,
   "metadata": {},
   "outputs": [],
   "source": [
    "from sklearn.model_selection import train_test_split\n",
    "from sklearn.linear_model import LogisticRegression # multinomal \n",
    "from sklearn.neighbors import KNeighborsClassifier \n",
    "from sklearn.tree import DecisionTreeClassifier\n",
    "from sklearn.ensemble import RandomForestClassifier, GradientBoostingClassifier\n",
    "from sklearn.metrics import f1_score, classification_report, confusion_matrix, accuracy_score\n",
    "\n",
    "from imblearn.over_sampling import SMOTE \n",
    "\n",
    "from xgboost import XGBClassifier \n",
    "\n",
    "from collections import Counter \n",
    "\n",
    "import ipywidgets as widgets "
   ]
  },
  {
   "cell_type": "code",
   "execution_count": 182,
   "metadata": {},
   "outputs": [],
   "source": [
    "# df = df.drop('File_ID',axis = 1) "
   ]
  },
  {
   "cell_type": "code",
   "execution_count": 183,
   "metadata": {},
   "outputs": [
    {
     "name": "stdout",
     "output_type": "stream",
     "text": [
      "   Access_Frequency  Frequnecy_of_Access  File_Size  File_Lifecycle_Stage  \\\n",
      "0            0.5890               0.8167     0.0000                0.0000   \n",
      "1            0.6760               0.1249     0.0633                0.4262   \n",
      "2            0.7103               0.3176     0.0000                0.0000   \n",
      "3            0.0681               0.5738     0.0000                0.0000   \n",
      "4            0.5492               0.7808     0.0000                0.0000   \n",
      "\n",
      "   Modification_Frequency  File_Age  Storage_Tier_Encoded  \\\n",
      "0                  0.7786    0.2631                     2   \n",
      "1                  0.1340    0.7871                     1   \n",
      "2                  0.1646    0.1934                     1   \n",
      "3                  0.2712    0.2405                     0   \n",
      "4                  0.3916    0.3551                     1   \n",
      "\n",
      "   Z_Score_Access_Frequency  \n",
      "0                    0.6893  \n",
      "1                    1.0305  \n",
      "2                    1.1650  \n",
      "3                   -1.3536  \n",
      "4                    0.5332  \n",
      "Counter({1: 1192, 0: 214, 2: 194})\n",
      "Counter({1: 1192, 0: 1192, 2: 1192})\n",
      "Training examples: 3576\n",
      "Training labels: 3576\n",
      "Test examples:400\n"
     ]
    }
   ],
   "source": [
    "\n",
    "print(df.head(n=5))\n",
    "X = df.drop('Storage_Tier_Encoded', axis = 1)\n",
    "Y = df[\"Storage_Tier_Encoded\"] \n",
    "\n",
    "X_train, X_test, Y_train, Y_test = train_test_split(X,Y,train_size=0.8, test_size = 0.2) \n",
    "\n",
    "smote = SMOTE(random_state=42)\n",
    "X_train_SMOTE,Y_train_SMOTE = smote.fit_resample(X_train, Y_train) \n",
    "\n",
    "print(Counter(Y_train))\n",
    "print(Counter(Y_train_SMOTE)) \n",
    "np.random.seed(42)  \n",
    "print(\"Training examples: {}\".format(X_train_SMOTE.shape[0])) \n",
    "print(\"Training labels: {}\".format(Y_train_SMOTE.shape[0])) \n",
    "print(\"Test examples:{}\".format(X_test.shape[0]) )"
   ]
  },
  {
   "cell_type": "markdown",
   "metadata": {},
   "source": [
    "now the training data is balanced and thus should avoid and bias "
   ]
  },
  {
   "cell_type": "markdown",
   "metadata": {},
   "source": [
    "#### Logisitc Regresion Model "
   ]
  },
  {
   "cell_type": "code",
   "execution_count": 184,
   "metadata": {},
   "outputs": [
    {
     "data": {
      "text/html": [
       "<style>#sk-container-id-1 {color: black;}#sk-container-id-1 pre{padding: 0;}#sk-container-id-1 div.sk-toggleable {background-color: white;}#sk-container-id-1 label.sk-toggleable__label {cursor: pointer;display: block;width: 100%;margin-bottom: 0;padding: 0.3em;box-sizing: border-box;text-align: center;}#sk-container-id-1 label.sk-toggleable__label-arrow:before {content: \"▸\";float: left;margin-right: 0.25em;color: #696969;}#sk-container-id-1 label.sk-toggleable__label-arrow:hover:before {color: black;}#sk-container-id-1 div.sk-estimator:hover label.sk-toggleable__label-arrow:before {color: black;}#sk-container-id-1 div.sk-toggleable__content {max-height: 0;max-width: 0;overflow: hidden;text-align: left;background-color: #f0f8ff;}#sk-container-id-1 div.sk-toggleable__content pre {margin: 0.2em;color: black;border-radius: 0.25em;background-color: #f0f8ff;}#sk-container-id-1 input.sk-toggleable__control:checked~div.sk-toggleable__content {max-height: 200px;max-width: 100%;overflow: auto;}#sk-container-id-1 input.sk-toggleable__control:checked~label.sk-toggleable__label-arrow:before {content: \"▾\";}#sk-container-id-1 div.sk-estimator input.sk-toggleable__control:checked~label.sk-toggleable__label {background-color: #d4ebff;}#sk-container-id-1 div.sk-label input.sk-toggleable__control:checked~label.sk-toggleable__label {background-color: #d4ebff;}#sk-container-id-1 input.sk-hidden--visually {border: 0;clip: rect(1px 1px 1px 1px);clip: rect(1px, 1px, 1px, 1px);height: 1px;margin: -1px;overflow: hidden;padding: 0;position: absolute;width: 1px;}#sk-container-id-1 div.sk-estimator {font-family: monospace;background-color: #f0f8ff;border: 1px dotted black;border-radius: 0.25em;box-sizing: border-box;margin-bottom: 0.5em;}#sk-container-id-1 div.sk-estimator:hover {background-color: #d4ebff;}#sk-container-id-1 div.sk-parallel-item::after {content: \"\";width: 100%;border-bottom: 1px solid gray;flex-grow: 1;}#sk-container-id-1 div.sk-label:hover label.sk-toggleable__label {background-color: #d4ebff;}#sk-container-id-1 div.sk-serial::before {content: \"\";position: absolute;border-left: 1px solid gray;box-sizing: border-box;top: 0;bottom: 0;left: 50%;z-index: 0;}#sk-container-id-1 div.sk-serial {display: flex;flex-direction: column;align-items: center;background-color: white;padding-right: 0.2em;padding-left: 0.2em;position: relative;}#sk-container-id-1 div.sk-item {position: relative;z-index: 1;}#sk-container-id-1 div.sk-parallel {display: flex;align-items: stretch;justify-content: center;background-color: white;position: relative;}#sk-container-id-1 div.sk-item::before, #sk-container-id-1 div.sk-parallel-item::before {content: \"\";position: absolute;border-left: 1px solid gray;box-sizing: border-box;top: 0;bottom: 0;left: 50%;z-index: -1;}#sk-container-id-1 div.sk-parallel-item {display: flex;flex-direction: column;z-index: 1;position: relative;background-color: white;}#sk-container-id-1 div.sk-parallel-item:first-child::after {align-self: flex-end;width: 50%;}#sk-container-id-1 div.sk-parallel-item:last-child::after {align-self: flex-start;width: 50%;}#sk-container-id-1 div.sk-parallel-item:only-child::after {width: 0;}#sk-container-id-1 div.sk-dashed-wrapped {border: 1px dashed gray;margin: 0 0.4em 0.5em 0.4em;box-sizing: border-box;padding-bottom: 0.4em;background-color: white;}#sk-container-id-1 div.sk-label label {font-family: monospace;font-weight: bold;display: inline-block;line-height: 1.2em;}#sk-container-id-1 div.sk-label-container {text-align: center;}#sk-container-id-1 div.sk-container {/* jupyter's `normalize.less` sets `[hidden] { display: none; }` but bootstrap.min.css set `[hidden] { display: none !important; }` so we also need the `!important` here to be able to override the default hidden behavior on the sphinx rendered scikit-learn.org. See: https://github.com/scikit-learn/scikit-learn/issues/21755 */display: inline-block !important;position: relative;}#sk-container-id-1 div.sk-text-repr-fallback {display: none;}</style><div id=\"sk-container-id-1\" class=\"sk-top-container\"><div class=\"sk-text-repr-fallback\"><pre>LogisticRegression(multi_class=&#x27;multinomial&#x27;)</pre><b>In a Jupyter environment, please rerun this cell to show the HTML representation or trust the notebook. <br />On GitHub, the HTML representation is unable to render, please try loading this page with nbviewer.org.</b></div><div class=\"sk-container\" hidden><div class=\"sk-item\"><div class=\"sk-estimator sk-toggleable\"><input class=\"sk-toggleable__control sk-hidden--visually\" id=\"sk-estimator-id-1\" type=\"checkbox\" checked><label for=\"sk-estimator-id-1\" class=\"sk-toggleable__label sk-toggleable__label-arrow\">LogisticRegression</label><div class=\"sk-toggleable__content\"><pre>LogisticRegression(multi_class=&#x27;multinomial&#x27;)</pre></div></div></div></div></div>"
      ],
      "text/plain": [
       "LogisticRegression(multi_class='multinomial')"
      ]
     },
     "execution_count": 184,
     "metadata": {},
     "output_type": "execute_result"
    }
   ],
   "source": [
    "multinomail_LR_model = LogisticRegression(multi_class='multinomial')\n",
    "multinomail_LR_model.fit(X_train_SMOTE, Y_train_SMOTE) "
   ]
  },
  {
   "cell_type": "code",
   "execution_count": 217,
   "metadata": {},
   "outputs": [
    {
     "name": "stdout",
     "output_type": "stream",
     "text": [
      "Accuracy Score of the Multinomal Logisitric Regression Model: 87.5%\n",
      "Classification Report for Multinomail Logistic Regression model:\n",
      "                precision    recall  f1-score   support\n",
      "\n",
      "           0       0.66      1.00      0.79        52\n",
      "           1       1.00      0.83      0.91       303\n",
      "           2       0.66      1.00      0.80        45\n",
      "\n",
      "    accuracy                           0.88       400\n",
      "   macro avg       0.77      0.94      0.83       400\n",
      "weighted avg       0.92      0.88      0.88       400\n",
      "\n"
     ]
    }
   ],
   "source": [
    "\n",
    "predict = multinomail_LR_model.predict(X_test) \n",
    "multi_LR_model_accuracy = accuracy_score(Y_test, predict) * 100 \n",
    "\n",
    "print(f\"Accuracy Score of the Multinomal Logisitric Regression Model: {multi_LR_model_accuracy}%\")\n",
    "# f1_score_LR_model = round(f1_score(Y_test, predict, average='weighted'),4) * 100\n",
    "\n",
    "# print(f\"The F1-Score is {f1_score_LR_model}%\") \n",
    "\n",
    "# print(\"\\nConfusion Matrix\", confusion_matrix(Y_test, predict)) \n",
    "print(\"Classification Report for Multinomail Logistic Regression model:\\n \", classification_report(Y_test, predict)) \n"
   ]
  },
  {
   "cell_type": "markdown",
   "metadata": {},
   "source": [
    "Despite the multinomal logistic regression model preforming really well, I will try to train some other models like KNN, Decision Tree, Random Forrest, and a Gradient Boosting Model because each of them bring their own strengths for a classification task. At the end, I can summarize the models to deteremine which one worked the best given the dataset and then deploy that model as RESTAPI. "
   ]
  },
  {
   "cell_type": "markdown",
   "metadata": {},
   "source": [
    "## Step 3) Model Training and Evaluation"
   ]
  },
  {
   "cell_type": "markdown",
   "metadata": {},
   "source": [
    "#### K-nearest neighbors (KNN) Model"
   ]
  },
  {
   "cell_type": "code",
   "execution_count": 199,
   "metadata": {},
   "outputs": [
    {
     "data": {
      "text/html": [
       "<style>#sk-container-id-2 {color: black;}#sk-container-id-2 pre{padding: 0;}#sk-container-id-2 div.sk-toggleable {background-color: white;}#sk-container-id-2 label.sk-toggleable__label {cursor: pointer;display: block;width: 100%;margin-bottom: 0;padding: 0.3em;box-sizing: border-box;text-align: center;}#sk-container-id-2 label.sk-toggleable__label-arrow:before {content: \"▸\";float: left;margin-right: 0.25em;color: #696969;}#sk-container-id-2 label.sk-toggleable__label-arrow:hover:before {color: black;}#sk-container-id-2 div.sk-estimator:hover label.sk-toggleable__label-arrow:before {color: black;}#sk-container-id-2 div.sk-toggleable__content {max-height: 0;max-width: 0;overflow: hidden;text-align: left;background-color: #f0f8ff;}#sk-container-id-2 div.sk-toggleable__content pre {margin: 0.2em;color: black;border-radius: 0.25em;background-color: #f0f8ff;}#sk-container-id-2 input.sk-toggleable__control:checked~div.sk-toggleable__content {max-height: 200px;max-width: 100%;overflow: auto;}#sk-container-id-2 input.sk-toggleable__control:checked~label.sk-toggleable__label-arrow:before {content: \"▾\";}#sk-container-id-2 div.sk-estimator input.sk-toggleable__control:checked~label.sk-toggleable__label {background-color: #d4ebff;}#sk-container-id-2 div.sk-label input.sk-toggleable__control:checked~label.sk-toggleable__label {background-color: #d4ebff;}#sk-container-id-2 input.sk-hidden--visually {border: 0;clip: rect(1px 1px 1px 1px);clip: rect(1px, 1px, 1px, 1px);height: 1px;margin: -1px;overflow: hidden;padding: 0;position: absolute;width: 1px;}#sk-container-id-2 div.sk-estimator {font-family: monospace;background-color: #f0f8ff;border: 1px dotted black;border-radius: 0.25em;box-sizing: border-box;margin-bottom: 0.5em;}#sk-container-id-2 div.sk-estimator:hover {background-color: #d4ebff;}#sk-container-id-2 div.sk-parallel-item::after {content: \"\";width: 100%;border-bottom: 1px solid gray;flex-grow: 1;}#sk-container-id-2 div.sk-label:hover label.sk-toggleable__label {background-color: #d4ebff;}#sk-container-id-2 div.sk-serial::before {content: \"\";position: absolute;border-left: 1px solid gray;box-sizing: border-box;top: 0;bottom: 0;left: 50%;z-index: 0;}#sk-container-id-2 div.sk-serial {display: flex;flex-direction: column;align-items: center;background-color: white;padding-right: 0.2em;padding-left: 0.2em;position: relative;}#sk-container-id-2 div.sk-item {position: relative;z-index: 1;}#sk-container-id-2 div.sk-parallel {display: flex;align-items: stretch;justify-content: center;background-color: white;position: relative;}#sk-container-id-2 div.sk-item::before, #sk-container-id-2 div.sk-parallel-item::before {content: \"\";position: absolute;border-left: 1px solid gray;box-sizing: border-box;top: 0;bottom: 0;left: 50%;z-index: -1;}#sk-container-id-2 div.sk-parallel-item {display: flex;flex-direction: column;z-index: 1;position: relative;background-color: white;}#sk-container-id-2 div.sk-parallel-item:first-child::after {align-self: flex-end;width: 50%;}#sk-container-id-2 div.sk-parallel-item:last-child::after {align-self: flex-start;width: 50%;}#sk-container-id-2 div.sk-parallel-item:only-child::after {width: 0;}#sk-container-id-2 div.sk-dashed-wrapped {border: 1px dashed gray;margin: 0 0.4em 0.5em 0.4em;box-sizing: border-box;padding-bottom: 0.4em;background-color: white;}#sk-container-id-2 div.sk-label label {font-family: monospace;font-weight: bold;display: inline-block;line-height: 1.2em;}#sk-container-id-2 div.sk-label-container {text-align: center;}#sk-container-id-2 div.sk-container {/* jupyter's `normalize.less` sets `[hidden] { display: none; }` but bootstrap.min.css set `[hidden] { display: none !important; }` so we also need the `!important` here to be able to override the default hidden behavior on the sphinx rendered scikit-learn.org. See: https://github.com/scikit-learn/scikit-learn/issues/21755 */display: inline-block !important;position: relative;}#sk-container-id-2 div.sk-text-repr-fallback {display: none;}</style><div id=\"sk-container-id-2\" class=\"sk-top-container\"><div class=\"sk-text-repr-fallback\"><pre>KNeighborsClassifier()</pre><b>In a Jupyter environment, please rerun this cell to show the HTML representation or trust the notebook. <br />On GitHub, the HTML representation is unable to render, please try loading this page with nbviewer.org.</b></div><div class=\"sk-container\" hidden><div class=\"sk-item\"><div class=\"sk-estimator sk-toggleable\"><input class=\"sk-toggleable__control sk-hidden--visually\" id=\"sk-estimator-id-2\" type=\"checkbox\" checked><label for=\"sk-estimator-id-2\" class=\"sk-toggleable__label sk-toggleable__label-arrow\">KNeighborsClassifier</label><div class=\"sk-toggleable__content\"><pre>KNeighborsClassifier()</pre></div></div></div></div></div>"
      ],
      "text/plain": [
       "KNeighborsClassifier()"
      ]
     },
     "execution_count": 199,
     "metadata": {},
     "output_type": "execute_result"
    }
   ],
   "source": [
    "knn_model = KNeighborsClassifier(n_neighbors = 5) \n",
    "knn_model.fit(X_train_SMOTE, Y_train_SMOTE) "
   ]
  },
  {
   "cell_type": "code",
   "execution_count": 216,
   "metadata": {},
   "outputs": [
    {
     "name": "stdout",
     "output_type": "stream",
     "text": [
      "Accuracy of KNN model: 84.25%\n",
      "Classification Report of KNN model:\n",
      "               precision    recall  f1-score   support\n",
      "\n",
      "           0       0.64      0.94      0.76        52\n",
      "           1       0.98      0.81      0.89       303\n",
      "           2       0.59      0.98      0.73        45\n",
      "\n",
      "    accuracy                           0.84       400\n",
      "   macro avg       0.74      0.91      0.79       400\n",
      "weighted avg       0.89      0.84      0.85       400\n",
      "\n"
     ]
    }
   ],
   "source": [
    "predict = knn_model.predict(X_test) \n",
    "accuracy = accuracy_score(Y_test, predict) * 100 \n",
    "class_report = classification_report(Y_test,predict) \n",
    "\n",
    "print(f\"Accuracy of KNN model: {accuracy}%\") \n",
    "print(f\"Classification Report of KNN model:\\n {class_report}\")"
   ]
  },
  {
   "cell_type": "markdown",
   "metadata": {},
   "source": [
    "#### Decision Tree Model"
   ]
  },
  {
   "cell_type": "code",
   "execution_count": 208,
   "metadata": {},
   "outputs": [
    {
     "data": {
      "text/html": [
       "<style>#sk-container-id-4 {color: black;}#sk-container-id-4 pre{padding: 0;}#sk-container-id-4 div.sk-toggleable {background-color: white;}#sk-container-id-4 label.sk-toggleable__label {cursor: pointer;display: block;width: 100%;margin-bottom: 0;padding: 0.3em;box-sizing: border-box;text-align: center;}#sk-container-id-4 label.sk-toggleable__label-arrow:before {content: \"▸\";float: left;margin-right: 0.25em;color: #696969;}#sk-container-id-4 label.sk-toggleable__label-arrow:hover:before {color: black;}#sk-container-id-4 div.sk-estimator:hover label.sk-toggleable__label-arrow:before {color: black;}#sk-container-id-4 div.sk-toggleable__content {max-height: 0;max-width: 0;overflow: hidden;text-align: left;background-color: #f0f8ff;}#sk-container-id-4 div.sk-toggleable__content pre {margin: 0.2em;color: black;border-radius: 0.25em;background-color: #f0f8ff;}#sk-container-id-4 input.sk-toggleable__control:checked~div.sk-toggleable__content {max-height: 200px;max-width: 100%;overflow: auto;}#sk-container-id-4 input.sk-toggleable__control:checked~label.sk-toggleable__label-arrow:before {content: \"▾\";}#sk-container-id-4 div.sk-estimator input.sk-toggleable__control:checked~label.sk-toggleable__label {background-color: #d4ebff;}#sk-container-id-4 div.sk-label input.sk-toggleable__control:checked~label.sk-toggleable__label {background-color: #d4ebff;}#sk-container-id-4 input.sk-hidden--visually {border: 0;clip: rect(1px 1px 1px 1px);clip: rect(1px, 1px, 1px, 1px);height: 1px;margin: -1px;overflow: hidden;padding: 0;position: absolute;width: 1px;}#sk-container-id-4 div.sk-estimator {font-family: monospace;background-color: #f0f8ff;border: 1px dotted black;border-radius: 0.25em;box-sizing: border-box;margin-bottom: 0.5em;}#sk-container-id-4 div.sk-estimator:hover {background-color: #d4ebff;}#sk-container-id-4 div.sk-parallel-item::after {content: \"\";width: 100%;border-bottom: 1px solid gray;flex-grow: 1;}#sk-container-id-4 div.sk-label:hover label.sk-toggleable__label {background-color: #d4ebff;}#sk-container-id-4 div.sk-serial::before {content: \"\";position: absolute;border-left: 1px solid gray;box-sizing: border-box;top: 0;bottom: 0;left: 50%;z-index: 0;}#sk-container-id-4 div.sk-serial {display: flex;flex-direction: column;align-items: center;background-color: white;padding-right: 0.2em;padding-left: 0.2em;position: relative;}#sk-container-id-4 div.sk-item {position: relative;z-index: 1;}#sk-container-id-4 div.sk-parallel {display: flex;align-items: stretch;justify-content: center;background-color: white;position: relative;}#sk-container-id-4 div.sk-item::before, #sk-container-id-4 div.sk-parallel-item::before {content: \"\";position: absolute;border-left: 1px solid gray;box-sizing: border-box;top: 0;bottom: 0;left: 50%;z-index: -1;}#sk-container-id-4 div.sk-parallel-item {display: flex;flex-direction: column;z-index: 1;position: relative;background-color: white;}#sk-container-id-4 div.sk-parallel-item:first-child::after {align-self: flex-end;width: 50%;}#sk-container-id-4 div.sk-parallel-item:last-child::after {align-self: flex-start;width: 50%;}#sk-container-id-4 div.sk-parallel-item:only-child::after {width: 0;}#sk-container-id-4 div.sk-dashed-wrapped {border: 1px dashed gray;margin: 0 0.4em 0.5em 0.4em;box-sizing: border-box;padding-bottom: 0.4em;background-color: white;}#sk-container-id-4 div.sk-label label {font-family: monospace;font-weight: bold;display: inline-block;line-height: 1.2em;}#sk-container-id-4 div.sk-label-container {text-align: center;}#sk-container-id-4 div.sk-container {/* jupyter's `normalize.less` sets `[hidden] { display: none; }` but bootstrap.min.css set `[hidden] { display: none !important; }` so we also need the `!important` here to be able to override the default hidden behavior on the sphinx rendered scikit-learn.org. See: https://github.com/scikit-learn/scikit-learn/issues/21755 */display: inline-block !important;position: relative;}#sk-container-id-4 div.sk-text-repr-fallback {display: none;}</style><div id=\"sk-container-id-4\" class=\"sk-top-container\"><div class=\"sk-text-repr-fallback\"><pre>DecisionTreeClassifier()</pre><b>In a Jupyter environment, please rerun this cell to show the HTML representation or trust the notebook. <br />On GitHub, the HTML representation is unable to render, please try loading this page with nbviewer.org.</b></div><div class=\"sk-container\" hidden><div class=\"sk-item\"><div class=\"sk-estimator sk-toggleable\"><input class=\"sk-toggleable__control sk-hidden--visually\" id=\"sk-estimator-id-4\" type=\"checkbox\" checked><label for=\"sk-estimator-id-4\" class=\"sk-toggleable__label sk-toggleable__label-arrow\">DecisionTreeClassifier</label><div class=\"sk-toggleable__content\"><pre>DecisionTreeClassifier()</pre></div></div></div></div></div>"
      ],
      "text/plain": [
       "DecisionTreeClassifier()"
      ]
     },
     "execution_count": 208,
     "metadata": {},
     "output_type": "execute_result"
    }
   ],
   "source": [
    "tree_model = DecisionTreeClassifier()\n",
    "tree_model.fit(X_train_SMOTE, Y_train_SMOTE) "
   ]
  },
  {
   "cell_type": "code",
   "execution_count": 218,
   "metadata": {},
   "outputs": [
    {
     "name": "stdout",
     "output_type": "stream",
     "text": [
      "Accuracy of Decision Tree Model: 86.5%\n",
      "Classification Report of Decision Tree Model:\n",
      "               precision    recall  f1-score   support\n",
      "\n",
      "           0       0.76      0.81      0.79        52\n",
      "           1       0.93      0.89      0.91       303\n",
      "           2       0.62      0.78      0.69        45\n",
      "\n",
      "    accuracy                           0.86       400\n",
      "   macro avg       0.77      0.82      0.80       400\n",
      "weighted avg       0.87      0.86      0.87       400\n",
      "\n"
     ]
    }
   ],
   "source": [
    "predict = tree_model.predict(X_test) \n",
    "accuracy = accuracy_score(Y_test, predict) * 100 \n",
    "class_report = classification_report(Y_test, predict)\n",
    "\n",
    "print(f\"Accuracy of Decision Tree Model: {accuracy}%\")\n",
    "print(f\"Classification Report of Decision Tree Model:\\n {class_report}\") "
   ]
  },
  {
   "cell_type": "markdown",
   "metadata": {},
   "source": [
    "#### Random Forest Model"
   ]
  },
  {
   "cell_type": "code",
   "execution_count": 271,
   "metadata": {},
   "outputs": [
    {
     "data": {
      "text/html": [
       "<style>#sk-container-id-31 {color: black;}#sk-container-id-31 pre{padding: 0;}#sk-container-id-31 div.sk-toggleable {background-color: white;}#sk-container-id-31 label.sk-toggleable__label {cursor: pointer;display: block;width: 100%;margin-bottom: 0;padding: 0.3em;box-sizing: border-box;text-align: center;}#sk-container-id-31 label.sk-toggleable__label-arrow:before {content: \"▸\";float: left;margin-right: 0.25em;color: #696969;}#sk-container-id-31 label.sk-toggleable__label-arrow:hover:before {color: black;}#sk-container-id-31 div.sk-estimator:hover label.sk-toggleable__label-arrow:before {color: black;}#sk-container-id-31 div.sk-toggleable__content {max-height: 0;max-width: 0;overflow: hidden;text-align: left;background-color: #f0f8ff;}#sk-container-id-31 div.sk-toggleable__content pre {margin: 0.2em;color: black;border-radius: 0.25em;background-color: #f0f8ff;}#sk-container-id-31 input.sk-toggleable__control:checked~div.sk-toggleable__content {max-height: 200px;max-width: 100%;overflow: auto;}#sk-container-id-31 input.sk-toggleable__control:checked~label.sk-toggleable__label-arrow:before {content: \"▾\";}#sk-container-id-31 div.sk-estimator input.sk-toggleable__control:checked~label.sk-toggleable__label {background-color: #d4ebff;}#sk-container-id-31 div.sk-label input.sk-toggleable__control:checked~label.sk-toggleable__label {background-color: #d4ebff;}#sk-container-id-31 input.sk-hidden--visually {border: 0;clip: rect(1px 1px 1px 1px);clip: rect(1px, 1px, 1px, 1px);height: 1px;margin: -1px;overflow: hidden;padding: 0;position: absolute;width: 1px;}#sk-container-id-31 div.sk-estimator {font-family: monospace;background-color: #f0f8ff;border: 1px dotted black;border-radius: 0.25em;box-sizing: border-box;margin-bottom: 0.5em;}#sk-container-id-31 div.sk-estimator:hover {background-color: #d4ebff;}#sk-container-id-31 div.sk-parallel-item::after {content: \"\";width: 100%;border-bottom: 1px solid gray;flex-grow: 1;}#sk-container-id-31 div.sk-label:hover label.sk-toggleable__label {background-color: #d4ebff;}#sk-container-id-31 div.sk-serial::before {content: \"\";position: absolute;border-left: 1px solid gray;box-sizing: border-box;top: 0;bottom: 0;left: 50%;z-index: 0;}#sk-container-id-31 div.sk-serial {display: flex;flex-direction: column;align-items: center;background-color: white;padding-right: 0.2em;padding-left: 0.2em;position: relative;}#sk-container-id-31 div.sk-item {position: relative;z-index: 1;}#sk-container-id-31 div.sk-parallel {display: flex;align-items: stretch;justify-content: center;background-color: white;position: relative;}#sk-container-id-31 div.sk-item::before, #sk-container-id-31 div.sk-parallel-item::before {content: \"\";position: absolute;border-left: 1px solid gray;box-sizing: border-box;top: 0;bottom: 0;left: 50%;z-index: -1;}#sk-container-id-31 div.sk-parallel-item {display: flex;flex-direction: column;z-index: 1;position: relative;background-color: white;}#sk-container-id-31 div.sk-parallel-item:first-child::after {align-self: flex-end;width: 50%;}#sk-container-id-31 div.sk-parallel-item:last-child::after {align-self: flex-start;width: 50%;}#sk-container-id-31 div.sk-parallel-item:only-child::after {width: 0;}#sk-container-id-31 div.sk-dashed-wrapped {border: 1px dashed gray;margin: 0 0.4em 0.5em 0.4em;box-sizing: border-box;padding-bottom: 0.4em;background-color: white;}#sk-container-id-31 div.sk-label label {font-family: monospace;font-weight: bold;display: inline-block;line-height: 1.2em;}#sk-container-id-31 div.sk-label-container {text-align: center;}#sk-container-id-31 div.sk-container {/* jupyter's `normalize.less` sets `[hidden] { display: none; }` but bootstrap.min.css set `[hidden] { display: none !important; }` so we also need the `!important` here to be able to override the default hidden behavior on the sphinx rendered scikit-learn.org. See: https://github.com/scikit-learn/scikit-learn/issues/21755 */display: inline-block !important;position: relative;}#sk-container-id-31 div.sk-text-repr-fallback {display: none;}</style><div id=\"sk-container-id-31\" class=\"sk-top-container\"><div class=\"sk-text-repr-fallback\"><pre>RandomForestClassifier()</pre><b>In a Jupyter environment, please rerun this cell to show the HTML representation or trust the notebook. <br />On GitHub, the HTML representation is unable to render, please try loading this page with nbviewer.org.</b></div><div class=\"sk-container\" hidden><div class=\"sk-item\"><div class=\"sk-estimator sk-toggleable\"><input class=\"sk-toggleable__control sk-hidden--visually\" id=\"sk-estimator-id-31\" type=\"checkbox\" checked><label for=\"sk-estimator-id-31\" class=\"sk-toggleable__label sk-toggleable__label-arrow\">RandomForestClassifier</label><div class=\"sk-toggleable__content\"><pre>RandomForestClassifier()</pre></div></div></div></div></div>"
      ],
      "text/plain": [
       "RandomForestClassifier()"
      ]
     },
     "execution_count": 271,
     "metadata": {},
     "output_type": "execute_result"
    }
   ],
   "source": [
    "Rforest_model = RandomForestClassifier(n_estimators=100) \n",
    "Rforest_model.fit(X_train_SMOTE,Y_train_SMOTE) "
   ]
  },
  {
   "cell_type": "code",
   "execution_count": 272,
   "metadata": {},
   "outputs": [
    {
     "name": "stdout",
     "output_type": "stream",
     "text": [
      "Accuract Score of Random Forrest Model: 90.25%\n",
      "Classification Report of Random Forrest Molde:\n",
      "               precision    recall  f1-score   support\n",
      "\n",
      "           0       0.79      0.81      0.80        52\n",
      "           1       0.94      0.93      0.94       303\n",
      "           2       0.78      0.84      0.81        45\n",
      "\n",
      "    accuracy                           0.90       400\n",
      "   macro avg       0.84      0.86      0.85       400\n",
      "weighted avg       0.90      0.90      0.90       400\n",
      "\n"
     ]
    }
   ],
   "source": [
    "predict = Rforest_model.predict(X_test) \n",
    "accuracy = accuracy_score(Y_test, predict) * 100 \n",
    "\n",
    "class_report = classification_report(Y_test, predict) \n",
    "\n",
    "print(f\"Accuract Score of Random Forrest Model: {accuracy}%\") \n",
    "print(f\"Classification Report of Random Forrest Molde:\\n {class_report}\") "
   ]
  },
  {
   "cell_type": "markdown",
   "metadata": {},
   "source": [
    "#### XGBoost Model"
   ]
  },
  {
   "cell_type": "code",
   "execution_count": 268,
   "metadata": {},
   "outputs": [
    {
     "data": {
      "text/html": [
       "<style>#sk-container-id-30 {color: black;}#sk-container-id-30 pre{padding: 0;}#sk-container-id-30 div.sk-toggleable {background-color: white;}#sk-container-id-30 label.sk-toggleable__label {cursor: pointer;display: block;width: 100%;margin-bottom: 0;padding: 0.3em;box-sizing: border-box;text-align: center;}#sk-container-id-30 label.sk-toggleable__label-arrow:before {content: \"▸\";float: left;margin-right: 0.25em;color: #696969;}#sk-container-id-30 label.sk-toggleable__label-arrow:hover:before {color: black;}#sk-container-id-30 div.sk-estimator:hover label.sk-toggleable__label-arrow:before {color: black;}#sk-container-id-30 div.sk-toggleable__content {max-height: 0;max-width: 0;overflow: hidden;text-align: left;background-color: #f0f8ff;}#sk-container-id-30 div.sk-toggleable__content pre {margin: 0.2em;color: black;border-radius: 0.25em;background-color: #f0f8ff;}#sk-container-id-30 input.sk-toggleable__control:checked~div.sk-toggleable__content {max-height: 200px;max-width: 100%;overflow: auto;}#sk-container-id-30 input.sk-toggleable__control:checked~label.sk-toggleable__label-arrow:before {content: \"▾\";}#sk-container-id-30 div.sk-estimator input.sk-toggleable__control:checked~label.sk-toggleable__label {background-color: #d4ebff;}#sk-container-id-30 div.sk-label input.sk-toggleable__control:checked~label.sk-toggleable__label {background-color: #d4ebff;}#sk-container-id-30 input.sk-hidden--visually {border: 0;clip: rect(1px 1px 1px 1px);clip: rect(1px, 1px, 1px, 1px);height: 1px;margin: -1px;overflow: hidden;padding: 0;position: absolute;width: 1px;}#sk-container-id-30 div.sk-estimator {font-family: monospace;background-color: #f0f8ff;border: 1px dotted black;border-radius: 0.25em;box-sizing: border-box;margin-bottom: 0.5em;}#sk-container-id-30 div.sk-estimator:hover {background-color: #d4ebff;}#sk-container-id-30 div.sk-parallel-item::after {content: \"\";width: 100%;border-bottom: 1px solid gray;flex-grow: 1;}#sk-container-id-30 div.sk-label:hover label.sk-toggleable__label {background-color: #d4ebff;}#sk-container-id-30 div.sk-serial::before {content: \"\";position: absolute;border-left: 1px solid gray;box-sizing: border-box;top: 0;bottom: 0;left: 50%;z-index: 0;}#sk-container-id-30 div.sk-serial {display: flex;flex-direction: column;align-items: center;background-color: white;padding-right: 0.2em;padding-left: 0.2em;position: relative;}#sk-container-id-30 div.sk-item {position: relative;z-index: 1;}#sk-container-id-30 div.sk-parallel {display: flex;align-items: stretch;justify-content: center;background-color: white;position: relative;}#sk-container-id-30 div.sk-item::before, #sk-container-id-30 div.sk-parallel-item::before {content: \"\";position: absolute;border-left: 1px solid gray;box-sizing: border-box;top: 0;bottom: 0;left: 50%;z-index: -1;}#sk-container-id-30 div.sk-parallel-item {display: flex;flex-direction: column;z-index: 1;position: relative;background-color: white;}#sk-container-id-30 div.sk-parallel-item:first-child::after {align-self: flex-end;width: 50%;}#sk-container-id-30 div.sk-parallel-item:last-child::after {align-self: flex-start;width: 50%;}#sk-container-id-30 div.sk-parallel-item:only-child::after {width: 0;}#sk-container-id-30 div.sk-dashed-wrapped {border: 1px dashed gray;margin: 0 0.4em 0.5em 0.4em;box-sizing: border-box;padding-bottom: 0.4em;background-color: white;}#sk-container-id-30 div.sk-label label {font-family: monospace;font-weight: bold;display: inline-block;line-height: 1.2em;}#sk-container-id-30 div.sk-label-container {text-align: center;}#sk-container-id-30 div.sk-container {/* jupyter's `normalize.less` sets `[hidden] { display: none; }` but bootstrap.min.css set `[hidden] { display: none !important; }` so we also need the `!important` here to be able to override the default hidden behavior on the sphinx rendered scikit-learn.org. See: https://github.com/scikit-learn/scikit-learn/issues/21755 */display: inline-block !important;position: relative;}#sk-container-id-30 div.sk-text-repr-fallback {display: none;}</style><div id=\"sk-container-id-30\" class=\"sk-top-container\"><div class=\"sk-text-repr-fallback\"><pre>XGBClassifier(base_score=None, booster=None, callbacks=None,\n",
       "              colsample_bylevel=None, colsample_bynode=None,\n",
       "              colsample_bytree=None, device=None, early_stopping_rounds=None,\n",
       "              enable_categorical=False, eval_metric=&#x27;mlogloss&#x27;,\n",
       "              feature_types=None, gamma=None, grow_policy=None,\n",
       "              importance_type=None, interaction_constraints=None,\n",
       "              learning_rate=None, max_bin=None, max_cat_threshold=None,\n",
       "              max_cat_to_onehot=None, max_delta_step=None, max_depth=None,\n",
       "              max_leaves=None, min_child_weight=None, missing=nan,\n",
       "              monotone_constraints=None, multi_strategy=None, n_estimators=None,\n",
       "              n_jobs=None, num_parallel_tree=None, objective=&#x27;multi:softprob&#x27;, ...)</pre><b>In a Jupyter environment, please rerun this cell to show the HTML representation or trust the notebook. <br />On GitHub, the HTML representation is unable to render, please try loading this page with nbviewer.org.</b></div><div class=\"sk-container\" hidden><div class=\"sk-item\"><div class=\"sk-estimator sk-toggleable\"><input class=\"sk-toggleable__control sk-hidden--visually\" id=\"sk-estimator-id-30\" type=\"checkbox\" checked><label for=\"sk-estimator-id-30\" class=\"sk-toggleable__label sk-toggleable__label-arrow\">XGBClassifier</label><div class=\"sk-toggleable__content\"><pre>XGBClassifier(base_score=None, booster=None, callbacks=None,\n",
       "              colsample_bylevel=None, colsample_bynode=None,\n",
       "              colsample_bytree=None, device=None, early_stopping_rounds=None,\n",
       "              enable_categorical=False, eval_metric=&#x27;mlogloss&#x27;,\n",
       "              feature_types=None, gamma=None, grow_policy=None,\n",
       "              importance_type=None, interaction_constraints=None,\n",
       "              learning_rate=None, max_bin=None, max_cat_threshold=None,\n",
       "              max_cat_to_onehot=None, max_delta_step=None, max_depth=None,\n",
       "              max_leaves=None, min_child_weight=None, missing=nan,\n",
       "              monotone_constraints=None, multi_strategy=None, n_estimators=None,\n",
       "              n_jobs=None, num_parallel_tree=None, objective=&#x27;multi:softprob&#x27;, ...)</pre></div></div></div></div></div>"
      ],
      "text/plain": [
       "XGBClassifier(base_score=None, booster=None, callbacks=None,\n",
       "              colsample_bylevel=None, colsample_bynode=None,\n",
       "              colsample_bytree=None, device=None, early_stopping_rounds=None,\n",
       "              enable_categorical=False, eval_metric='mlogloss',\n",
       "              feature_types=None, gamma=None, grow_policy=None,\n",
       "              importance_type=None, interaction_constraints=None,\n",
       "              learning_rate=None, max_bin=None, max_cat_threshold=None,\n",
       "              max_cat_to_onehot=None, max_delta_step=None, max_depth=None,\n",
       "              max_leaves=None, min_child_weight=None, missing=nan,\n",
       "              monotone_constraints=None, multi_strategy=None, n_estimators=None,\n",
       "              n_jobs=None, num_parallel_tree=None, objective='multi:softprob', ...)"
      ]
     },
     "execution_count": 268,
     "metadata": {},
     "output_type": "execute_result"
    }
   ],
   "source": [
    "xgboost_model = XGBClassifier(eval_metric = 'mlogloss', random_state= 42) \n",
    "xgboost_model.fit(X_train_SMOTE, Y_train_SMOTE) "
   ]
  },
  {
   "cell_type": "code",
   "execution_count": 269,
   "metadata": {},
   "outputs": [
    {
     "name": "stdout",
     "output_type": "stream",
     "text": [
      "Accuracy Score XGBoost Model: 92.5%\n",
      "Classification Report XGBoost Model: \n",
      "               precision    recall  f1-score   support\n",
      "\n",
      "           0       0.88      0.83      0.85        52\n",
      "           1       0.96      0.94      0.95       303\n",
      "           2       0.78      0.93      0.85        45\n",
      "\n",
      "    accuracy                           0.93       400\n",
      "   macro avg       0.87      0.90      0.88       400\n",
      "weighted avg       0.93      0.93      0.93       400\n",
      "\n"
     ]
    }
   ],
   "source": [
    "predict = xgboost_model.predict(X_test) \n",
    "accuracy = accuracy_score(Y_test, predict) * 100 \n",
    "class_report = classification_report(Y_test, predict) \n",
    "\n",
    "print(f\"Accuracy Score XGBoost Model: {accuracy}%\") \n",
    "print(f\"Classification Report XGBoost Model: \\n {class_report}\") "
   ]
  },
  {
   "cell_type": "markdown",
   "metadata": {},
   "source": [
    "<h3>Summary of Basic Models</h3>\n",
    "\n",
    "<br>\n",
    "\n",
    "<table align=\"left\">\n",
    "    <tr>\n",
    "        <th>Model Type</th>\n",
    "        <th>Accuracy</th>\n",
    "        <th> Weighted F1-Score Avg</th>\n",
    "    </tr>\n",
    "    <tr>\n",
    "        <td>Logistic Regression</td>\n",
    "        <td>87.5%</td>\n",
    "        <td>0.88</td>\n",
    "    </tr>\n",
    "    <tr>\n",
    "        <td>K-nearest neighbors </td>\n",
    "        <td>84.25%</td>\n",
    "        <td>0.85</td>\n",
    "    </tr>\n",
    "    <tr>\n",
    "        <td>Decision Tree</td>\n",
    "        <td>86.5%</td>\n",
    "        <td>0.87</td>\n",
    "    </tr>\n",
    "    <tr>\n",
    "        <td>Random Forest</td>\n",
    "        <td>91.0%</td>\n",
    "        <td>0.91</td>\n",
    "    </tr>\n",
    "    <tr>\n",
    "        <td>XGBoost</td>\n",
    "        <td>92.5%</td>\n",
    "        <td>0.93</td>\n",
    "    </tr>\n",
    "</table>\n",
    "\n",
    "<br>"
   ]
  },
  {
   "cell_type": "markdown",
   "metadata": {},
   "source": [
    "why did random forest and XGBoost work so well on this dataset? \n",
    "\n",
    "Random Forest uses multiple decision trees ( so it make sense why it outperformed deciion tree) and then averages out the predictions of the trees to avoid overfitting, and in addtion to using SMOTE for the class imbalance random forest inherenrlty balances the majority and minority classes. \n",
    "\n",
    "All in all both methods are ensemble learning models, and the fact that the logisitc regression and decision tree model have strong accuracy score it makes intutitve sense that the models that use it as weak learners creative a stronger overall model. "
   ]
  },
  {
   "cell_type": "markdown",
   "metadata": {},
   "source": [
    "#### Neural Network? "
   ]
  },
  {
   "cell_type": "markdown",
   "metadata": {},
   "source": [
    "## Step 4) Model Deployment "
   ]
  },
  {
   "cell_type": "markdown",
   "metadata": {},
   "source": [
    "since the XGBoost model has the most accurate model and the closest weighted f1_score avg to 1, it is safe to use this model to classify the storage tier of new files that follow the same csv/json? schema as the datset used to train the model. "
   ]
  },
  {
   "cell_type": "markdown",
   "metadata": {},
   "source": [
    "#### Save the trained model"
   ]
  },
  {
   "cell_type": "code",
   "execution_count": 274,
   "metadata": {},
   "outputs": [],
   "source": [
    "import pickle \n",
    "\n",
    "with open(\"../xgboost-model/xgboost_model.pkl\",\"wb\") as file: \n",
    "    pickle.dump(xgboost_model, file)"
   ]
  }
 ],
 "metadata": {
  "kernelspec": {
   "display_name": "Python 3",
   "language": "python",
   "name": "python3"
  },
  "language_info": {
   "codemirror_mode": {
    "name": "ipython",
    "version": 3
   },
   "file_extension": ".py",
   "mimetype": "text/x-python",
   "name": "python",
   "nbconvert_exporter": "python",
   "pygments_lexer": "ipython3",
   "version": "3.9.13"
  }
 },
 "nbformat": 4,
 "nbformat_minor": 2
}
